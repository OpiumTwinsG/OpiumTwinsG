{
  "nbformat": 4,
  "nbformat_minor": 0,
  "metadata": {
    "kernelspec": {
      "display_name": "Python 3",
      "language": "python",
      "name": "python3"
    },
    "language_info": {
      "codemirror_mode": {
        "name": "ipython",
        "version": 3
      },
      "file_extension": ".py",
      "mimetype": "text/x-python",
      "name": "python",
      "nbconvert_exporter": "python",
      "pygments_lexer": "ipython3",
      "version": "3.8.2"
    },
    "colab": {
      "provenance": [],
      "include_colab_link": true
    }
  },
  "cells": [
    {
      "cell_type": "markdown",
      "metadata": {
        "id": "view-in-github",
        "colab_type": "text"
      },
      "source": [
        "<a href=\"https://colab.research.google.com/github/OpiumTwinsG/OpiumTwinsG/blob/main/%D0%9A%D0%BE%D0%BF%D0%B8%D1%8F_%D0%B1%D0%BB%D0%BE%D0%BA%D0%BD%D0%BE%D1%82%D0%B0_%22complex_numbers_2023_ipynb%22.ipynb\" target=\"_parent\"><img src=\"https://colab.research.google.com/assets/colab-badge.svg\" alt=\"Open In Colab\"/></a>"
      ]
    },
    {
      "cell_type": "markdown",
      "metadata": {
        "id": "qZ0ff2dKhECJ"
      },
      "source": [
        "# Лабораторная работа 1. Комплексные числа."
      ]
    },
    {
      "cell_type": "markdown",
      "metadata": {
        "id": "HhoiO_PPbIMM"
      },
      "source": [
        "Не все многочлены с вещественными коэффициентами имеют вещественные корни. Поэтому люди изобрели комплексные числа.\n",
        "По сути -- это пары вещественных чисел со специальными операциями на них."
      ]
    },
    {
      "cell_type": "markdown",
      "source": [
        "## Операции над комплексными числами"
      ],
      "metadata": {
        "id": "poLdU0lVQgIV"
      }
    },
    {
      "cell_type": "markdown",
      "metadata": {
        "id": "jaZ-T6phhv15"
      },
      "source": [
        "Как представить комплексное число в программе на Python? Можно просто работать с кортежами (*tuples*) из двух элементов:"
      ]
    },
    {
      "cell_type": "code",
      "metadata": {
        "id": "HQpNZZqKbIMP"
      },
      "source": [
        "z1 = (1, 2)  # z = 1 - 2i\n",
        "z2 = (3, -4)  # w = 3 - 4i"
      ],
      "execution_count": null,
      "outputs": []
    },
    {
      "cell_type": "markdown",
      "metadata": {
        "id": "qoEfs9ImoFAS"
      },
      "source": [
        "Попробуем вывести z1, его вещественную и мнимую части:"
      ]
    },
    {
      "cell_type": "code",
      "metadata": {
        "id": "PDRJpGd8bIMn",
        "colab": {
          "base_uri": "https://localhost:8080/"
        },
        "outputId": "f5571642-3f84-4723-8772-b319ed0facba"
      },
      "source": [
        "z1"
      ],
      "execution_count": null,
      "outputs": [
        {
          "output_type": "execute_result",
          "data": {
            "text/plain": [
              "(1, 2)"
            ]
          },
          "metadata": {},
          "execution_count": 2
        }
      ]
    },
    {
      "cell_type": "code",
      "metadata": {
        "id": "ASGDgAOUpox7",
        "colab": {
          "base_uri": "https://localhost:8080/"
        },
        "outputId": "94ae20d1-ed9f-4550-b713-4ccbda3d6e60"
      },
      "source": [
        "z1[0]  # нулевой элемент кортежа (нумерация начинается с нуля!) -- вещественная часть нашего комплексного числа"
      ],
      "execution_count": null,
      "outputs": [
        {
          "output_type": "execute_result",
          "data": {
            "text/plain": [
              "1"
            ]
          },
          "metadata": {},
          "execution_count": 3
        }
      ]
    },
    {
      "cell_type": "code",
      "metadata": {
        "id": "gjoUJHVLpvk8",
        "colab": {
          "base_uri": "https://localhost:8080/"
        },
        "outputId": "beca0060-8469-458f-9373-24487c2494fc"
      },
      "source": [
        "z1[1]  # первый элемент кортежа -- мнимая часть"
      ],
      "execution_count": null,
      "outputs": [
        {
          "output_type": "execute_result",
          "data": {
            "text/plain": [
              "2"
            ]
          },
          "metadata": {},
          "execution_count": 4
        }
      ]
    },
    {
      "cell_type": "markdown",
      "metadata": {
        "id": "lsiDdbPAof1k"
      },
      "source": [
        "Можно определить функцию, печатающую комплексное число в более привычном нам виде:"
      ]
    },
    {
      "cell_type": "code",
      "metadata": {
        "id": "JtHnP0zObIMx"
      },
      "source": [
        "def print_complex(z):\n",
        "  print(f'{z[0]} + {z[1]}i')"
      ],
      "execution_count": null,
      "outputs": []
    },
    {
      "cell_type": "code",
      "metadata": {
        "id": "zsUJZX5RsCW0",
        "colab": {
          "base_uri": "https://localhost:8080/"
        },
        "outputId": "d268c74e-5614-44f8-e59a-e143321869b6"
      },
      "source": [
        "print_complex(z1)\n",
        "print_complex(z2)"
      ],
      "execution_count": null,
      "outputs": [
        {
          "output_type": "stream",
          "name": "stdout",
          "text": [
            "1 + 2i\n",
            "3 + -4i\n"
          ]
        }
      ]
    },
    {
      "cell_type": "markdown",
      "metadata": {
        "id": "cY2LqutDbIM5"
      },
      "source": [
        "Как теперь осуществлять операции над комплексными числами? Начнем со сложения:"
      ]
    },
    {
      "cell_type": "code",
      "metadata": {
        "id": "4ssls0N2bIM6"
      },
      "source": [
        "def complex_add(z, w):\n",
        "    return (z[0] + w[0], z[1] + w[1])"
      ],
      "execution_count": null,
      "outputs": []
    },
    {
      "cell_type": "code",
      "metadata": {
        "id": "jNYFygdVbINB",
        "colab": {
          "base_uri": "https://localhost:8080/"
        },
        "outputId": "c89bbf03-5ff3-4889-ea8f-4c0726cc10d1"
      },
      "source": [
        "print_complex(complex_add(z1, z2))"
      ],
      "execution_count": null,
      "outputs": [
        {
          "output_type": "stream",
          "name": "stdout",
          "text": [
            "4 + -2i\n"
          ]
        }
      ]
    },
    {
      "cell_type": "markdown",
      "metadata": {
        "id": "cKPS7oD8vSUj"
      },
      "source": [
        "**Задание 1 (2 балла).**  Напишите функцию для умножения комплексных чисел:"
      ]
    },
    {
      "cell_type": "code",
      "metadata": {
        "id": "jTkn2iW8bINJ"
      },
      "source": [
        "def complex_multiply(z, w):\n",
        "  # вместо следующей строки напишите код, возвращающий z * w (как кортеж)\n",
        "  return (0, 0)\n"
      ],
      "execution_count": null,
      "outputs": []
    },
    {
      "cell_type": "code",
      "metadata": {
        "id": "o_6DlqGLbINO",
        "colab": {
          "base_uri": "https://localhost:8080/"
        },
        "outputId": "a654a37f-479f-4af3-c2ff-2257b3483623"
      },
      "source": [
        "print_complex(complex_multiply(z1, z2))   # запустите сначала предыдущую ячейку (с определением функции, а затем эту)"
      ],
      "execution_count": null,
      "outputs": [
        {
          "output_type": "stream",
          "name": "stdout",
          "text": [
            "0 + 0i\n"
          ]
        }
      ]
    },
    {
      "cell_type": "markdown",
      "metadata": {
        "id": "LWLjOPwYwOM_"
      },
      "source": [
        "**Задание 2 (1 балл).** Напишите функцию, возвращающую сопряженное к данному комплексное число:"
      ]
    },
    {
      "cell_type": "code",
      "metadata": {
        "id": "Hd20DJvLwlIW"
      },
      "source": [
        "def complex_conjugate(z):\n",
        "  # вместо следующей строки напишите код, возвращающий сопряженное к z\n",
        "  return (0, 0)"
      ],
      "execution_count": null,
      "outputs": []
    },
    {
      "cell_type": "code",
      "metadata": {
        "id": "NN3dfZb_0dwT",
        "colab": {
          "base_uri": "https://localhost:8080/"
        },
        "outputId": "24e889a7-c68b-4ed0-87de-057df39b4c11"
      },
      "source": [
        "print_complex(complex_conjugate(z1))"
      ],
      "execution_count": null,
      "outputs": [
        {
          "output_type": "stream",
          "name": "stdout",
          "text": [
            "0 + 0i\n"
          ]
        }
      ]
    },
    {
      "cell_type": "markdown",
      "metadata": {
        "id": "pHACQDNbxCq4"
      },
      "source": [
        "**Задание 3 (3 балла).** Напишите функцию деления одного комплексного числа на другое. Пока можно считать, что неравенство второго аргумента нулю где-то проверяется заранее."
      ]
    },
    {
      "cell_type": "code",
      "metadata": {
        "id": "D7K7ggaHyQKO"
      },
      "source": [
        "def complex_divide(z, w):\n",
        "  # вместо следующей строки напишите код, возвращающий z / w\n",
        "  return (0, 0)"
      ],
      "execution_count": null,
      "outputs": []
    },
    {
      "cell_type": "code",
      "metadata": {
        "id": "Ks2Sx-6j0vTv",
        "colab": {
          "base_uri": "https://localhost:8080/"
        },
        "outputId": "372cfb2d-2a53-4bd0-d90c-ffc10e8b2816"
      },
      "source": [
        "print_complex(complex_divide(z1, z2))"
      ],
      "execution_count": null,
      "outputs": [
        {
          "output_type": "stream",
          "name": "stdout",
          "text": [
            "0 + 0i\n"
          ]
        }
      ]
    },
    {
      "cell_type": "markdown",
      "metadata": {
        "id": "NmV0M2JybINT"
      },
      "source": [
        "Ура, мы поняли, что можем самостоятельно написать все базовые вещи для работы с комплексными числами!\n",
        "\n",
        "Но, конечно, на самом деле разработчики Python уже сделали все за нас. Комплексные числа можно вводить почти в привычном нам виде, только вместо i пишется j:"
      ]
    },
    {
      "cell_type": "code",
      "metadata": {
        "id": "cL-DvsEObINW"
      },
      "source": [
        "z = 1 + 2j"
      ],
      "execution_count": null,
      "outputs": []
    },
    {
      "cell_type": "code",
      "metadata": {
        "id": "mFqRo6tibINb"
      },
      "source": [
        "w = 3 - 4j"
      ],
      "execution_count": null,
      "outputs": []
    },
    {
      "cell_type": "code",
      "metadata": {
        "id": "Wv2QBYqybINg",
        "colab": {
          "base_uri": "https://localhost:8080/"
        },
        "outputId": "4b9ca691-76ae-413a-f482-1bb6c098d470"
      },
      "source": [
        "z + w"
      ],
      "execution_count": null,
      "outputs": [
        {
          "output_type": "execute_result",
          "data": {
            "text/plain": [
              "(4-2j)"
            ]
          },
          "metadata": {},
          "execution_count": 17
        }
      ]
    },
    {
      "cell_type": "code",
      "metadata": {
        "id": "l5xMqWm8bINn",
        "colab": {
          "base_uri": "https://localhost:8080/"
        },
        "outputId": "3b170e7e-d790-4878-9b58-d1995619f6e1"
      },
      "source": [
        "z * w"
      ],
      "execution_count": null,
      "outputs": [
        {
          "output_type": "execute_result",
          "data": {
            "text/plain": [
              "(11+2j)"
            ]
          },
          "metadata": {},
          "execution_count": 18
        }
      ]
    },
    {
      "cell_type": "code",
      "metadata": {
        "id": "UPi4eGdKbINt",
        "colab": {
          "base_uri": "https://localhost:8080/"
        },
        "outputId": "e12c8560-36a8-44af-a9a9-6c752e788eb6"
      },
      "source": [
        "z - w"
      ],
      "execution_count": null,
      "outputs": [
        {
          "output_type": "execute_result",
          "data": {
            "text/plain": [
              "(-2+6j)"
            ]
          },
          "metadata": {},
          "execution_count": 19
        }
      ]
    },
    {
      "cell_type": "code",
      "metadata": {
        "id": "prexJi3RbINy",
        "colab": {
          "base_uri": "https://localhost:8080/"
        },
        "outputId": "ce88c76a-c010-40bf-c502-d698d6486d2d"
      },
      "source": [
        "z / w"
      ],
      "execution_count": null,
      "outputs": [
        {
          "output_type": "execute_result",
          "data": {
            "text/plain": [
              "(-0.2+0.4j)"
            ]
          },
          "metadata": {},
          "execution_count": 20
        }
      ]
    },
    {
      "cell_type": "code",
      "metadata": {
        "id": "vYtNHsrO34rW",
        "colab": {
          "base_uri": "https://localhost:8080/"
        },
        "outputId": "5fe02aa9-c0df-4dfa-bb81-edba1be96ba4"
      },
      "source": [
        "[z**k for k in range(10)]  # список всех степеней z от z^0 до z^9"
      ],
      "execution_count": null,
      "outputs": [
        {
          "output_type": "execute_result",
          "data": {
            "text/plain": [
              "[(1+0j),\n",
              " (1+2j),\n",
              " (-3+4j),\n",
              " (-11-2j),\n",
              " (-7-24j),\n",
              " (41-38j),\n",
              " (117+44j),\n",
              " (29+278j),\n",
              " (-527+336j),\n",
              " (-1199-718j)]"
            ]
          },
          "metadata": {},
          "execution_count": 21
        }
      ]
    },
    {
      "cell_type": "markdown",
      "metadata": {
        "id": "IPfVPvcV3UpF"
      },
      "source": [
        "Позволяет Python работать и с полярными координатами -- с помощью функций\n",
        "abs(z) (возвращает модуль комплексного числа z), cmath.phase(z) (возвращает его аргумент из промежутка $(-\\pi, \\pi]$), cmath.polar(z) (возвращает кортеж из модуля и аргумента), cmath.rect(r, phi) (возвращает комплексное число с данными модулем и аргументом).\n",
        "\n",
        "Можно почитать про эти функции на https://docs.python.org/3/library/cmath.html.\n",
        "\n"
      ]
    },
    {
      "cell_type": "code",
      "metadata": {
        "id": "Ge6OVU6v89L5",
        "colab": {
          "base_uri": "https://localhost:8080/"
        },
        "outputId": "8ccc823a-a327-4704-f033-6a98e61c8dd4"
      },
      "source": [
        "abs(1j)"
      ],
      "execution_count": null,
      "outputs": [
        {
          "output_type": "execute_result",
          "data": {
            "text/plain": [
              "1.0"
            ]
          },
          "metadata": {},
          "execution_count": 22
        }
      ]
    },
    {
      "cell_type": "code",
      "metadata": {
        "id": "WNAXkP0l7mN-",
        "colab": {
          "base_uri": "https://localhost:8080/"
        },
        "outputId": "888cfd94-51f3-4570-980f-b20b41801171"
      },
      "source": [
        "import cmath\n",
        "cmath.phase(-1)"
      ],
      "execution_count": null,
      "outputs": [
        {
          "output_type": "execute_result",
          "data": {
            "text/plain": [
              "3.141592653589793"
            ]
          },
          "metadata": {},
          "execution_count": 23
        }
      ]
    },
    {
      "cell_type": "markdown",
      "metadata": {
        "id": "ArS_HY106bn3"
      },
      "source": [
        "**Задание 4 (2 балла).** Выведите списки:\n",
        "1.   модулей всех степеней $w$ от $w^0$ до $w^7$\n",
        "2.   аргументов всех степеней $w$ от $w^0$ до $w^7$"
      ]
    },
    {
      "cell_type": "code",
      "metadata": {
        "id": "Iw9mzi-P9s_K"
      },
      "source": [
        "# Здесь мог бы быть ваш код"
      ],
      "execution_count": null,
      "outputs": []
    },
    {
      "cell_type": "markdown",
      "metadata": {
        "id": "kEGkE4HgAbwo"
      },
      "source": [
        "## Корни из единицы"
      ]
    },
    {
      "cell_type": "markdown",
      "metadata": {
        "id": "QzAyIfCckuJu"
      },
      "source": [
        "Давайте порисуем на комплексной плоскости."
      ]
    },
    {
      "cell_type": "code",
      "metadata": {
        "id": "h4_o0JlIX6rx"
      },
      "source": [
        "import cmath  # для математических функций\n",
        "import matplotlib.pyplot as plt  # для графиков"
      ],
      "execution_count": null,
      "outputs": []
    },
    {
      "cell_type": "markdown",
      "metadata": {
        "id": "zwqyH6qDu6Pp"
      },
      "source": [
        "Напишем функцию, изображающую на плоскости числа из списка numbers."
      ]
    },
    {
      "cell_type": "code",
      "metadata": {
        "id": "OCrSnyPbmPW6"
      },
      "source": [
        "def plot_complex(numbers):\n",
        "    plt.clf()  # сотрем старый график\n",
        "    plt.axis('equal')  # оси равного масштаба\n",
        "    plt.axvline(x=0, color='black')  # рисуем оси\n",
        "    plt.axhline(y=0, color='black')  # рисуем оси\n",
        "    # Изображаем сами числа: координаты по оси x -- вещественные части, по оси y -- мнимые части чисел из списка.\n",
        "    plt.scatter([z.real for z in numbers], [z.imag for z in numbers], c='crimson')\n",
        "    plt.show()  # покажем график"
      ],
      "execution_count": null,
      "outputs": []
    },
    {
      "cell_type": "code",
      "metadata": {
        "id": "Nk0N9ylQuZIE",
        "colab": {
          "base_uri": "https://localhost:8080/",
          "height": 430
        },
        "outputId": "e11eb114-efba-4b4e-b515-d9143efa1bf6"
      },
      "source": [
        "plot_complex([1, 1j, -1, -1j])"
      ],
      "execution_count": null,
      "outputs": [
        {
          "output_type": "display_data",
          "data": {
            "text/plain": [
              "<Figure size 640x480 with 1 Axes>"
            ],
            "image/png": "[encoded data removed]"
          },
          "metadata": {}
        }
      ]
    },
    {
      "cell_type": "markdown",
      "metadata": {
        "id": "Ych-HBawybuI"
      },
      "source": [
        "Узнали, что объединяет все эти числа? Да, это корни из 1 степени 4.\n",
        "\n",
        "**Задание 5 (3 балла).** А теперь напишите функцию, возвращающую список (list) всех корней из 1 степени $n$. Про работу со списками можно почитать [здесь](https://docs.python.org/3/tutorial/datastructures.html)."
      ]
    },
    {
      "cell_type": "code",
      "metadata": {
        "id": "LEukrAyrzZeE"
      },
      "source": [
        "def roots_of_unity(n):\n",
        "  # здесь мог бы быть ваш код\n",
        "  return []"
      ],
      "execution_count": null,
      "outputs": []
    },
    {
      "cell_type": "code",
      "metadata": {
        "id": "F6xLKDM20ANb",
        "colab": {
          "base_uri": "https://localhost:8080/",
          "height": 431
        },
        "outputId": "2f799a98-e12c-4c4e-f58d-a16e25726646"
      },
      "source": [
        "plot_complex(roots_of_unity(8))"
      ],
      "execution_count": null,
      "outputs": [
        {
          "output_type": "display_data",
          "data": {
            "text/plain": [
              "<Figure size 640x480 with 1 Axes>"
            ],
            "image/png": "[encoded data removed]"
          },
          "metadata": {}
        }
      ]
    },
    {
      "cell_type": "markdown",
      "source": [
        "## Фракталы"
      ],
      "metadata": {
        "id": "ZwyAP2c7Q0HE"
      }
    },
    {
      "cell_type": "markdown",
      "metadata": {
        "id": "kqDkn4ob1J5A"
      },
      "source": [
        "А теперь познакомимся с такими симпатичными объектами, как фракталы. Эта часть основана на статье https://jeremykun.com/2014/05/26/learning-to-love-complex-numbers/ (с некоторыми упрощениями).\n",
        "\n",
        "Представьте точку $z$ на комплексной плоскости. Пусть мы применяем к ней функцию $f$. А потом еще раз, и еще раз, и еще раз:\n",
        "$$f(z), f(f(z)), f(f(f(z))), \\ldots$$\n",
        "Если $f(z) = z^2$, числа внутри и на границе единичного круга всегда останутся в нем, а вне его -- \"убегут на бесконечность\" (их модуль будет больше и больше). А как будут себя вести разные числа при применении других функций?\n",
        "\n"
      ]
    },
    {
      "cell_type": "code",
      "metadata": {
        "id": "x5JrIYVxXttw"
      },
      "source": [
        "def is_small_forever(z, f):  # проверка, останется ли число z в некоторой ограниченной области при многократном применении функции f?\n",
        "   k = 0\n",
        "   while abs(z) < 2:\n",
        "     z = f(z)\n",
        "     k += 1\n",
        "     if k > 250:\n",
        "         return True\n",
        "   return False"
      ],
      "execution_count": null,
      "outputs": []
    },
    {
      "cell_type": "markdown",
      "metadata": {
        "id": "n5djzP5B3k6p"
      },
      "source": [
        "В качестве функции $f$ возьмем $z^2 + c$:"
      ]
    },
    {
      "cell_type": "code",
      "metadata": {
        "id": "N2i5NxEqXOOW"
      },
      "source": [
        "def square_plus_c(c):\n",
        "  def f(z):\n",
        "    return z*z + c\n",
        "  return f"
      ],
      "execution_count": null,
      "outputs": []
    },
    {
      "cell_type": "markdown",
      "metadata": {
        "id": "PRuYrps83_wE"
      },
      "source": [
        "И посмотрим, при каких значениях $c$  точка 0 \"убежит в бесконечность\", а при каких -- нет. Мы как бы разбиваем значения $c$ на два класса:"
      ]
    },
    {
      "cell_type": "code",
      "metadata": {
        "id": "bxXwC_FtYgyU"
      },
      "source": [
        "def classify_square_plus_с(c):\n",
        "   return is_small_forever(0, square_plus_c(c))"
      ],
      "execution_count": null,
      "outputs": []
    },
    {
      "cell_type": "markdown",
      "metadata": {
        "id": "TSj2cSI74zph"
      },
      "source": [
        "Конечно, мы не можем проверить, уводит ли точку 0 на бесконечность каждое из значений $c$  (ведь их бесконечно много даже внутри единичного круга!). Но мы можем взять достаточно частую \"сеточку\" из комплексных чисел и расклассифицировать числа из этой сеточки:"
      ]
    },
    {
      "cell_type": "code",
      "metadata": {
        "id": "hjNji0N9Zsl1"
      },
      "source": [
        "def classify(classifier, x_range=(-2,2), y_range=(-2,2), step=0.1):  # сеточка с шагом step в прямоугольнике xRange * yRange\n",
        "   # что у этой функции внутри -- читать не обязательно :)\n",
        "   x_start, x_end = x_range\n",
        "   y_start, y_end = y_range\n",
        "   x_size = int((x_end - x_start) / step)\n",
        "   y_size = int((y_end - y_start) / step)\n",
        "\n",
        "   grid = [[0 for j in range(x_size)] for i in range(y_size)]\n",
        "\n",
        "   for i in range(y_size):\n",
        "      b = y_end - i * step\n",
        "\n",
        "      for j in range(x_size):\n",
        "         a = x_start + j * step\n",
        "         z = a + b * 1j\n",
        "         if classifier(z):\n",
        "            grid[i][j] = 1\n",
        "\n",
        "   return grid\n"
      ],
      "execution_count": null,
      "outputs": []
    },
    {
      "cell_type": "code",
      "metadata": {
        "id": "Ws-E23p3ZZhM"
      },
      "source": [
        "# как и обещано -- берем \"сеточку\", классифицируем ее узлы\n",
        "grid = classify(classify_square_plus_с,x_range=(-2, 1), y_range=(-1, 1), step=0.005)"
      ],
      "execution_count": null,
      "outputs": []
    },
    {
      "cell_type": "markdown",
      "metadata": {
        "id": "_2wbFDdF6_oT"
      },
      "source": [
        "А теперь надо изобразить получившиеся два класса на плоскости. Напишем функцию для такого рисования и вызовем ее:"
      ]
    },
    {
      "cell_type": "code",
      "metadata": {
        "id": "ZNRcAp1BaPuY"
      },
      "source": [
        "def grid_to_image(grid):\n",
        "   plt.clf()\n",
        "   plt.imshow(grid)\n",
        "   plt.set_cmap('magma')\n",
        "   plt.show()"
      ],
      "execution_count": null,
      "outputs": []
    },
    {
      "cell_type": "code",
      "metadata": {
        "id": "fTgbFS3_aZe4",
        "colab": {
          "base_uri": "https://localhost:8080/",
          "height": 396
        },
        "outputId": "dfeb399c-bfae-4dd5-c3ff-00b6201bcaf1"
      },
      "source": [
        "grid_to_image(grid)"
      ],
      "execution_count": null,
      "outputs": [
        {
          "output_type": "display_data",
          "data": {
            "text/plain": [
              "<Figure size 640x480 with 1 Axes>"
            ],
            "image/png": "[encoded data removed]"
          },
          "metadata": {}
        }
      ]
    },
    {
      "cell_type": "markdown",
      "metadata": {
        "id": "pvh2s0Zz7gjj"
      },
      "source": [
        "А теперь попробуем классифицировать точки на те, которые \"уходят на бесконечность\" при применении функции $z^2 -1$ и те, которые остаются в ограниченной области.\n",
        "\n",
        "**Задание 6 (4 балла).** Напишите функцию для такой классификации"
      ]
    },
    {
      "cell_type": "code",
      "metadata": {
        "id": "MpiWShe-igH3"
      },
      "source": [
        " def square_minus1(z):\n",
        "   return z * z - 1\n",
        " def classify_square_minus1(z):\n",
        "  # здесь мог бы быть ваш код -- ему пригодится функция is_small_forever и еще одна функция, которую вы должны написать сами\n",
        "  return True"
      ],
      "execution_count": null,
      "outputs": []
    },
    {
      "cell_type": "markdown",
      "metadata": {
        "id": "0h5WpZtj8gAh"
      },
      "source": [
        "И нарисуем результат:"
      ]
    },
    {
      "cell_type": "code",
      "metadata": {
        "id": "ILNpZF8ui0pu",
        "colab": {
          "base_uri": "https://localhost:8080/",
          "height": 396
        },
        "outputId": "f4990fa4-ce6e-48e7-d4f1-1e000bd8c37d"
      },
      "source": [
        "grid = classify(classify_square_minus1,x_range=(-2, 1), y_range=(-1, 1), step=0.005)\n",
        "grid_to_image(grid)"
      ],
      "execution_count": null,
      "outputs": [
        {
          "output_type": "display_data",
          "data": {
            "text/plain": [
              "<Figure size 640x480 with 1 Axes>"
            ],
            "image/png": "[encoded data removed]"
          },
          "metadata": {}
        }
      ]
    }
  ]
}